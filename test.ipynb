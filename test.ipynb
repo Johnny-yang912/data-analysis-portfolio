{
 "cells": [
  {
   "cell_type": "code",
   "execution_count": 2,
   "id": "70d4d25a",
   "metadata": {},
   "outputs": [
    {
     "name": "stdout",
     "output_type": "stream",
     "text": [
      "{'accuracy': 0.794889992902768, 'precision': 0.6748971193415638, 'recall': 0.4385026737967914, 'f1': 0.5316045380875203, 'roc_auc': np.float64(0.8424113255315302), 'report': '              precision    recall  f1-score   support\\n\\n           0     0.8199    0.9237    0.8687      1035\\n           1     0.6749    0.4385    0.5316       374\\n\\n    accuracy                         0.7949      1409\\n   macro avg     0.7474    0.6811    0.7002      1409\\nweighted avg     0.7814    0.7949    0.7792      1409\\n'}\n",
      "最佳參數: {'clf__n_estimators': 500, 'clf__min_samples_split': 2, 'clf__max_depth': None}\n",
      "{'accuracy': 0.7977288857345636, 'precision': 0.6772908366533864, 'recall': 0.45454545454545453, 'f1': 0.544, 'roc_auc': np.float64(0.8450747888088042), 'report': '              precision    recall  f1-score   support\\n\\n           0     0.8238    0.9217    0.8700      1035\\n           1     0.6773    0.4545    0.5440       374\\n\\n    accuracy                         0.7977      1409\\n   macro avg     0.7506    0.6881    0.7070      1409\\nweighted avg     0.7849    0.7977    0.7835      1409\\n'}\n"
     ]
    }
   ],
   "source": [
    "# 如果 utils_churn.py 跟 Notebook 同一夾，這行可省略\n",
    "import sys, os\n",
    "sys.path.append(os.path.abspath(\".\"))\n",
    "\n",
    "from utils_churn import load_and_clean, split_xy, train_and_eval\n",
    "\n",
    "\n",
    "# 讀取與清理\n",
    "df = load_and_clean(\"telco_churn_with_all_feedback.csv\")\n",
    "X, y = split_xy(df, \"Churn\")\n",
    "\n",
    "# Baseline 模型\n",
    "res = train_and_eval(X, y, model=\"rf\")\n",
    "print(res[\"metrics\"])\n",
    "\n",
    "# 調參模型（自動跑 RandomizedSearchCV，並顯示最佳參數）\n",
    "res = train_and_eval(X, y, model=\"rf\", tune=True, n_iter=20)\n",
    "print(res[\"metrics\"])\n",
    "\n"
   ]
  },
  {
   "cell_type": "code",
   "execution_count": null,
   "id": "e529b649",
   "metadata": {},
   "outputs": [],
   "source": []
  }
 ],
 "metadata": {
  "kernelspec": {
   "display_name": "base",
   "language": "python",
   "name": "python3"
  },
  "language_info": {
   "codemirror_mode": {
    "name": "ipython",
    "version": 3
   },
   "file_extension": ".py",
   "mimetype": "text/x-python",
   "name": "python",
   "nbconvert_exporter": "python",
   "pygments_lexer": "ipython3",
   "version": "3.13.5"
  }
 },
 "nbformat": 4,
 "nbformat_minor": 5
}
